{
 "cells": [
  {
   "cell_type": "code",
   "execution_count": 0,
   "metadata": {
    "application/vnd.databricks.v1+cell": {
     "cellMetadata": {
      "byteLimit": 2048000,
      "rowLimit": 10000
     },
     "inputWidgets": {},
     "nuid": "b1a280f7-6132-448e-916e-a90db5f63d2b",
     "showTitle": false,
     "tableResultSettingsMap": {},
     "title": ""
    }
   },
   "outputs": [],
   "source": [
    "spark.sql(\"SELECT * FROM jpm.rakesh_bronze.customer_bronze\")"
   ]
  },
  {
   "cell_type": "code",
   "execution_count": 0,
   "metadata": {
    "application/vnd.databricks.v1+cell": {
     "cellMetadata": {
      "byteLimit": 2048000,
      "implicitDf": true,
      "rowLimit": 10000
     },
     "inputWidgets": {},
     "nuid": "6f3fe61a-6f31-4986-8f68-86d91e00f3dd",
     "showTitle": false,
     "tableResultSettingsMap": {},
     "title": ""
    }
   },
   "outputs": [],
   "source": [
    "%sql\n",
    "CREATE OR REPLACE TABLE jpm.Rakesh_Silver.silver_customer AS\n",
    "SELECT\n",
    "    cust_id,\n",
    "    name,\n",
    "    CAST(age AS INT) AS age,\n",
    "    gender,\n",
    "    birthday,\n",
    "    cast(zip as int) as zip,\n",
    "    REPLACE(city, '_', ' ') AS city\n",
    "FROM jpm.rakesh_bronze.customer_bronze;"
   ]
  },
  {
   "cell_type": "code",
   "execution_count": 0,
   "metadata": {
    "application/vnd.databricks.v1+cell": {
     "cellMetadata": {
      "byteLimit": 2048000,
      "implicitDf": true,
      "rowLimit": 10000
     },
     "inputWidgets": {},
     "nuid": "57b0780b-33be-4ebd-bf57-8c38d590c586",
     "showTitle": false,
     "tableResultSettingsMap": {},
     "title": ""
    }
   },
   "outputs": [],
   "source": [
    "%sql\n",
    "CREATE OR REPLACE TABLE jpm.Rakesh_Silver.silver_transaction AS\n",
    "SELECT DISTINCT\n",
    "    cust_id,\n",
    "    start_date,\n",
    "    end_date,\n",
    "    txn_id,\n",
    "    date,\n",
    "    year,\n",
    "    month,\n",
    "    day,\n",
    "    expense_type,\n",
    "    CAST(amt AS DECIMAL(10,2)) AS amt,\n",
    "    REPLACE(city, '_', ' ') AS city\n",
    "FROM jpm.rakesh_bronze.transaction_bronze;"
   ]
  }
 ],
 "metadata": {
  "application/vnd.databricks.v1+notebook": {
   "computePreferences": null,
   "dashboards": [],
   "environmentMetadata": {
    "base_environment": "",
    "environment_version": "2"
   },
   "language": "python",
   "notebookMetadata": {
    "mostRecentlyExecutedCommandWithImplicitDF": {
     "commandId": 6736544397468986,
     "dataframes": [
      "_sqldf"
     ]
    },
    "pythonIndentUnit": 4
   },
   "notebookName": "Rakesh_Silver",
   "widgets": {}
  },
  "language_info": {
   "name": "python"
  }
 },
 "nbformat": 4,
 "nbformat_minor": 0
}
