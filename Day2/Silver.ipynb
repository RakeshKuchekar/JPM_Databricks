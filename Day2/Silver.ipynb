{
 "cells": [
  {
   "cell_type": "code",
   "execution_count": 0,
   "metadata": {
    "application/vnd.databricks.v1+cell": {
     "cellMetadata": {
      "byteLimit": 2048000,
      "implicitDf": true,
      "rowLimit": 10000
     },
     "inputWidgets": {},
     "nuid": "356d433f-1eff-4868-b3da-a45c4d2eab9f",
     "showTitle": false,
     "tableResultSettingsMap": {},
     "title": ""
    }
   },
   "outputs": [],
   "source": [
    "%sql\n",
    "select * from jpm.rakesh_bronze.financial_bronze"
   ]
  },
  {
   "cell_type": "code",
   "execution_count": 0,
   "metadata": {
    "application/vnd.databricks.v1+cell": {
     "cellMetadata": {
      "byteLimit": 2048000,
      "rowLimit": 10000
     },
     "inputWidgets": {},
     "nuid": "9d34e884-bf97-4259-a434-cf961d6c881a",
     "showTitle": false,
     "tableResultSettingsMap": {},
     "title": ""
    }
   },
   "outputs": [],
   "source": [
    "df=spark.table(\"jpm.rakesh_bronze.financial_bronze\")"
   ]
  },
  {
   "cell_type": "code",
   "execution_count": 0,
   "metadata": {
    "application/vnd.databricks.v1+cell": {
     "cellMetadata": {
      "byteLimit": 2048000,
      "implicitDf": true,
      "rowLimit": 10000
     },
     "inputWidgets": {},
     "nuid": "e282d3a4-c720-4314-b639-fcddbd73f605",
     "showTitle": false,
     "tableResultSettingsMap": {},
     "title": ""
    }
   },
   "outputs": [],
   "source": [
    "%sql\n",
    "select * from jpm.rakesh_bronze.financial_bronze where units_sold LIKE \"%$%\""
   ]
  },
  {
   "cell_type": "code",
   "execution_count": 0,
   "metadata": {
    "application/vnd.databricks.v1+cell": {
     "cellMetadata": {
      "byteLimit": 2048000,
      "implicitDf": true,
      "rowLimit": 10000
     },
     "inputWidgets": {},
     "nuid": "e59fe110-a430-4311-88e4-33ebc39cef96",
     "showTitle": false,
     "tableResultSettingsMap": {},
     "title": ""
    }
   },
   "outputs": [],
   "source": [
    "%sql\n",
    "UPDATE jpm.rakesh_bronze.financial_bronze\n",
    "SET units_sold = REPLACE(units_sold, '$', '')\n",
    "WHERE units_sold LIKE \"%$%\";"
   ]
  },
  {
   "cell_type": "code",
   "execution_count": 0,
   "metadata": {
    "application/vnd.databricks.v1+cell": {
     "cellMetadata": {
      "byteLimit": 2048000,
      "rowLimit": 10000
     },
     "inputWidgets": {},
     "nuid": "caf33570-4531-441e-9f6e-6971f82d51d1",
     "showTitle": false,
     "tableResultSettingsMap": {},
     "title": ""
    }
   },
   "outputs": [],
   "source": [
    "df1=df.dropDuplicates()"
   ]
  },
  {
   "cell_type": "code",
   "execution_count": 0,
   "metadata": {
    "application/vnd.databricks.v1+cell": {
     "cellMetadata": {
      "byteLimit": 2048000,
      "rowLimit": 10000
     },
     "inputWidgets": {},
     "nuid": "7003cfc2-04c8-46d3-a5fb-6a1275a0aa75",
     "showTitle": false,
     "tableResultSettingsMap": {},
     "title": ""
    }
   },
   "outputs": [],
   "source": [
    "from pyspark.sql.functions import regexp_replace, col\n",
    "\n",
    "# Remove spaces from all string columns\n",
    "df_cleaned = df1.select([regexp_replace(col(c), r'\\s+', '').alias(c) if c != 'units_sold' else col(c) for c in df1.columns])\n",
    "\n",
    "# Remove $ symbol from 'units_sold' column\n",
    "df_cleaned = df_cleaned.withColumn('units_sold', regexp_replace(col('units_sold'), r'\\$', ''))\n",
    "\n",
    "display(df_cleaned)"
   ]
  },
  {
   "cell_type": "code",
   "execution_count": 0,
   "metadata": {
    "application/vnd.databricks.v1+cell": {
     "cellMetadata": {
      "byteLimit": 2048000,
      "rowLimit": 10000
     },
     "inputWidgets": {},
     "nuid": "152e098e-3b30-4819-bb0a-4f7cae85c2c1",
     "showTitle": false,
     "tableResultSettingsMap": {},
     "title": ""
    }
   },
   "outputs": [],
   "source": [
    "from pyspark.sql.functions import regexp_replace, col\n",
    "\n",
    "# Remove spaces from all string columns\n",
    "df_cleaned = df1.select([regexp_replace(col(c), r'\\s+', '').alias(c) if c not in ['units_sold', 'manufacturing_price', 'sale_price', 'gross_sales', 'discount', 'sales', 'cogs', 'profit'] else col(c) for c in df1.columns])\n",
    "\n",
    "# Remove $ symbol and change data type to int for specified columns\n",
    "columns_to_clean = ['units_sold', 'manufacturing_price', 'sale_price', 'gross_sales', 'discount', 'sales', 'cogs', 'profit']\n",
    "for column in columns_to_clean:\n",
    "    df_cleaned = df_cleaned.withColumn(column, regexp_replace(col(column), r'\\$', '').cast('double'))\n",
    "\n",
    "display(df_cleaned)"
   ]
  }
 ],
 "metadata": {
  "application/vnd.databricks.v1+notebook": {
   "computePreferences": null,
   "dashboards": [],
   "environmentMetadata": {
    "base_environment": "",
    "environment_version": "2"
   },
   "language": "python",
   "notebookMetadata": {
    "mostRecentlyExecutedCommandWithImplicitDF": {
     "commandId": 6602208895596393,
     "dataframes": [
      "_sqldf"
     ]
    },
    "pythonIndentUnit": 4
   },
   "notebookName": "Silver",
   "widgets": {}
  },
  "language_info": {
   "name": "python"
  }
 },
 "nbformat": 4,
 "nbformat_minor": 0
}
